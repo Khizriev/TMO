{
 "cells": [
  {
   "cell_type": "code",
   "execution_count": 73,
   "metadata": {
    "collapsed": true
   },
   "outputs": [],
   "source": [
    "#Загрузка датасета\n",
    "import pandas as pd\n",
    "import seaborn as sns\n",
    "import matplotlib.pyplot as plt\n",
    "import numpy as np\n",
    "from sklearn.preprocessing import PolynomialFeatures, MinMaxScaler, StandardScaler\n",
    "from sklearn.linear_model import LinearRegression, Lasso, Ridge\n",
    "from sklearn.tree import DecisionTreeRegressor, export_graphviz, export_text\n",
    "from sklearn.svm import SVR\n",
    "from sklearn.metrics import r2_score, mean_squared_error, mean_absolute_error\n",
    "from sklearn.model_selection import train_test_split, GridSearchCV\n",
    "from IPython.display import Image\n",
    "from IPython.core.display import HTML"
   ]
  },
  {
   "cell_type": "code",
   "execution_count": 5,
   "metadata": {
    "pycharm": {
     "name": "#%%\n"
    }
   },
   "outputs": [
    {
     "data": {
      "text/html": [
       "<div>\n",
       "<style scoped>\n",
       "    .dataframe tbody tr th:only-of-type {\n",
       "        vertical-align: middle;\n",
       "    }\n",
       "\n",
       "    .dataframe tbody tr th {\n",
       "        vertical-align: top;\n",
       "    }\n",
       "\n",
       "    .dataframe thead th {\n",
       "        text-align: right;\n",
       "    }\n",
       "</style>\n",
       "<table border=\"1\" class=\"dataframe\">\n",
       "  <thead>\n",
       "    <tr style=\"text-align: right;\">\n",
       "      <th></th>\n",
       "      <th>Company</th>\n",
       "      <th>Product</th>\n",
       "      <th>TypeName</th>\n",
       "      <th>Inches</th>\n",
       "      <th>ScreenResolution</th>\n",
       "      <th>Cpu</th>\n",
       "      <th>Ram</th>\n",
       "      <th>Memory</th>\n",
       "      <th>Gpu</th>\n",
       "      <th>OpSys</th>\n",
       "      <th>Weight</th>\n",
       "      <th>Price_euros</th>\n",
       "    </tr>\n",
       "    <tr>\n",
       "      <th>laptop_ID</th>\n",
       "      <th></th>\n",
       "      <th></th>\n",
       "      <th></th>\n",
       "      <th></th>\n",
       "      <th></th>\n",
       "      <th></th>\n",
       "      <th></th>\n",
       "      <th></th>\n",
       "      <th></th>\n",
       "      <th></th>\n",
       "      <th></th>\n",
       "      <th></th>\n",
       "    </tr>\n",
       "  </thead>\n",
       "  <tbody>\n",
       "    <tr>\n",
       "      <th>1</th>\n",
       "      <td>Apple</td>\n",
       "      <td>MacBook Pro</td>\n",
       "      <td>Ultrabook</td>\n",
       "      <td>13.3</td>\n",
       "      <td>IPS Panel Retina Display 2560x1600</td>\n",
       "      <td>Intel Core i5 2.3GHz</td>\n",
       "      <td>8GB</td>\n",
       "      <td>128GB SSD</td>\n",
       "      <td>Intel Iris Plus Graphics 640</td>\n",
       "      <td>macOS</td>\n",
       "      <td>1.37kg</td>\n",
       "      <td>1339.69</td>\n",
       "    </tr>\n",
       "    <tr>\n",
       "      <th>2</th>\n",
       "      <td>Apple</td>\n",
       "      <td>Macbook Air</td>\n",
       "      <td>Ultrabook</td>\n",
       "      <td>13.3</td>\n",
       "      <td>1440x900</td>\n",
       "      <td>Intel Core i5 1.8GHz</td>\n",
       "      <td>8GB</td>\n",
       "      <td>128GB Flash Storage</td>\n",
       "      <td>Intel HD Graphics 6000</td>\n",
       "      <td>macOS</td>\n",
       "      <td>1.34kg</td>\n",
       "      <td>898.94</td>\n",
       "    </tr>\n",
       "    <tr>\n",
       "      <th>3</th>\n",
       "      <td>HP</td>\n",
       "      <td>250 G6</td>\n",
       "      <td>Notebook</td>\n",
       "      <td>15.6</td>\n",
       "      <td>Full HD 1920x1080</td>\n",
       "      <td>Intel Core i5 7200U 2.5GHz</td>\n",
       "      <td>8GB</td>\n",
       "      <td>256GB SSD</td>\n",
       "      <td>Intel HD Graphics 620</td>\n",
       "      <td>No OS</td>\n",
       "      <td>1.86kg</td>\n",
       "      <td>575.00</td>\n",
       "    </tr>\n",
       "    <tr>\n",
       "      <th>4</th>\n",
       "      <td>Apple</td>\n",
       "      <td>MacBook Pro</td>\n",
       "      <td>Ultrabook</td>\n",
       "      <td>15.4</td>\n",
       "      <td>IPS Panel Retina Display 2880x1800</td>\n",
       "      <td>Intel Core i7 2.7GHz</td>\n",
       "      <td>16GB</td>\n",
       "      <td>512GB SSD</td>\n",
       "      <td>AMD Radeon Pro 455</td>\n",
       "      <td>macOS</td>\n",
       "      <td>1.83kg</td>\n",
       "      <td>2537.45</td>\n",
       "    </tr>\n",
       "    <tr>\n",
       "      <th>5</th>\n",
       "      <td>Apple</td>\n",
       "      <td>MacBook Pro</td>\n",
       "      <td>Ultrabook</td>\n",
       "      <td>13.3</td>\n",
       "      <td>IPS Panel Retina Display 2560x1600</td>\n",
       "      <td>Intel Core i5 3.1GHz</td>\n",
       "      <td>8GB</td>\n",
       "      <td>256GB SSD</td>\n",
       "      <td>Intel Iris Plus Graphics 650</td>\n",
       "      <td>macOS</td>\n",
       "      <td>1.37kg</td>\n",
       "      <td>1803.60</td>\n",
       "    </tr>\n",
       "  </tbody>\n",
       "</table>\n",
       "</div>"
      ],
      "text/plain": [
       "          Company      Product   TypeName  Inches  \\\n",
       "laptop_ID                                           \n",
       "1           Apple  MacBook Pro  Ultrabook    13.3   \n",
       "2           Apple  Macbook Air  Ultrabook    13.3   \n",
       "3              HP       250 G6   Notebook    15.6   \n",
       "4           Apple  MacBook Pro  Ultrabook    15.4   \n",
       "5           Apple  MacBook Pro  Ultrabook    13.3   \n",
       "\n",
       "                             ScreenResolution                         Cpu  \\\n",
       "laptop_ID                                                                   \n",
       "1          IPS Panel Retina Display 2560x1600        Intel Core i5 2.3GHz   \n",
       "2                                    1440x900        Intel Core i5 1.8GHz   \n",
       "3                           Full HD 1920x1080  Intel Core i5 7200U 2.5GHz   \n",
       "4          IPS Panel Retina Display 2880x1800        Intel Core i7 2.7GHz   \n",
       "5          IPS Panel Retina Display 2560x1600        Intel Core i5 3.1GHz   \n",
       "\n",
       "            Ram               Memory                           Gpu  OpSys  \\\n",
       "laptop_ID                                                                   \n",
       "1           8GB            128GB SSD  Intel Iris Plus Graphics 640  macOS   \n",
       "2           8GB  128GB Flash Storage        Intel HD Graphics 6000  macOS   \n",
       "3           8GB            256GB SSD         Intel HD Graphics 620  No OS   \n",
       "4          16GB            512GB SSD            AMD Radeon Pro 455  macOS   \n",
       "5           8GB            256GB SSD  Intel Iris Plus Graphics 650  macOS   \n",
       "\n",
       "           Weight  Price_euros  \n",
       "laptop_ID                       \n",
       "1          1.37kg      1339.69  \n",
       "2          1.34kg       898.94  \n",
       "3          1.86kg       575.00  \n",
       "4          1.83kg      2537.45  \n",
       "5          1.37kg      1803.60  "
      ]
     },
     "execution_count": 5,
     "metadata": {},
     "output_type": "execute_result"
    }
   ],
   "source": [
    "laptops = pd.read_csv('laptop_price.csv',encoding='latin-1')\n",
    "laptops = laptops.set_index('laptop_ID')\n",
    "laptops.head()"
   ]
  },
  {
   "cell_type": "code",
   "execution_count": 6,
   "metadata": {
    "pycharm": {
     "name": "#%%\n"
    }
   },
   "outputs": [
    {
     "name": "stdout",
     "output_type": "stream",
     "text": [
      "<class 'pandas.core.frame.DataFrame'>\n",
      "Int64Index: 1303 entries, 1 to 1320\n",
      "Data columns (total 12 columns):\n",
      " #   Column            Non-Null Count  Dtype  \n",
      "---  ------            --------------  -----  \n",
      " 0   Company           1303 non-null   object \n",
      " 1   Product           1303 non-null   object \n",
      " 2   TypeName          1303 non-null   object \n",
      " 3   Inches            1303 non-null   float64\n",
      " 4   ScreenResolution  1303 non-null   object \n",
      " 5   Cpu               1303 non-null   object \n",
      " 6   Ram               1303 non-null   object \n",
      " 7   Memory            1303 non-null   object \n",
      " 8   Gpu               1303 non-null   object \n",
      " 9   OpSys             1303 non-null   object \n",
      " 10  Weight            1303 non-null   object \n",
      " 11  Price_euros       1303 non-null   float64\n",
      "dtypes: float64(2), object(10)\n",
      "memory usage: 132.3+ KB\n"
     ]
    }
   ],
   "source": [
    "laptops.info()"
   ]
  },
  {
   "cell_type": "code",
   "execution_count": 7,
   "metadata": {
    "pycharm": {
     "name": "#%%\n"
    }
   },
   "outputs": [
    {
     "data": {
      "text/html": [
       "<div>\n",
       "<style scoped>\n",
       "    .dataframe tbody tr th:only-of-type {\n",
       "        vertical-align: middle;\n",
       "    }\n",
       "\n",
       "    .dataframe tbody tr th {\n",
       "        vertical-align: top;\n",
       "    }\n",
       "\n",
       "    .dataframe thead th {\n",
       "        text-align: right;\n",
       "    }\n",
       "</style>\n",
       "<table border=\"1\" class=\"dataframe\">\n",
       "  <thead>\n",
       "    <tr style=\"text-align: right;\">\n",
       "      <th></th>\n",
       "      <th>Inches</th>\n",
       "      <th>Price_euros</th>\n",
       "    </tr>\n",
       "  </thead>\n",
       "  <tbody>\n",
       "    <tr>\n",
       "      <th>count</th>\n",
       "      <td>1303.000000</td>\n",
       "      <td>1303.000000</td>\n",
       "    </tr>\n",
       "    <tr>\n",
       "      <th>mean</th>\n",
       "      <td>15.017191</td>\n",
       "      <td>1123.686992</td>\n",
       "    </tr>\n",
       "    <tr>\n",
       "      <th>std</th>\n",
       "      <td>1.426304</td>\n",
       "      <td>699.009043</td>\n",
       "    </tr>\n",
       "    <tr>\n",
       "      <th>min</th>\n",
       "      <td>10.100000</td>\n",
       "      <td>174.000000</td>\n",
       "    </tr>\n",
       "    <tr>\n",
       "      <th>25%</th>\n",
       "      <td>14.000000</td>\n",
       "      <td>599.000000</td>\n",
       "    </tr>\n",
       "    <tr>\n",
       "      <th>50%</th>\n",
       "      <td>15.600000</td>\n",
       "      <td>977.000000</td>\n",
       "    </tr>\n",
       "    <tr>\n",
       "      <th>75%</th>\n",
       "      <td>15.600000</td>\n",
       "      <td>1487.880000</td>\n",
       "    </tr>\n",
       "    <tr>\n",
       "      <th>max</th>\n",
       "      <td>18.400000</td>\n",
       "      <td>6099.000000</td>\n",
       "    </tr>\n",
       "  </tbody>\n",
       "</table>\n",
       "</div>"
      ],
      "text/plain": [
       "            Inches  Price_euros\n",
       "count  1303.000000  1303.000000\n",
       "mean     15.017191  1123.686992\n",
       "std       1.426304   699.009043\n",
       "min      10.100000   174.000000\n",
       "25%      14.000000   599.000000\n",
       "50%      15.600000   977.000000\n",
       "75%      15.600000  1487.880000\n",
       "max      18.400000  6099.000000"
      ]
     },
     "execution_count": 7,
     "metadata": {},
     "output_type": "execute_result"
    }
   ],
   "source": [
    "laptops.describe()"
   ]
  },
  {
   "cell_type": "code",
   "execution_count": 15,
   "metadata": {
    "pycharm": {
     "name": "#%%\n"
    }
   },
   "outputs": [
    {
     "name": "stderr",
     "output_type": "stream",
     "text": [
      "/var/folders/7p/qf20jzcs0857b0yp3vsrlzv00000gp/T/ipykernel_3583/972762675.py:14: FutureWarning: The default value of regex will change from True to False in a future version.\n",
      "  laptops['first'] = laptops['first'].str.replace(r'\\D', '')\n",
      "/var/folders/7p/qf20jzcs0857b0yp3vsrlzv00000gp/T/ipykernel_3583/972762675.py:20: FutureWarning: The default value of regex will change from True to False in a future version.\n",
      "  laptops['second'] = laptops['second'].str.replace(r'\\D', '')\n"
     ]
    }
   ],
   "source": [
    "laptops[\"Ram\"] = laptops[\"Ram\"].str.replace('GB', '')\n",
    "laptops[\"Weight\"] = laptops[\"Weight\"].str.replace('kg', '')\n",
    "laptops['Memory'] = laptops['Memory'].astype(str).replace('\\.0', '', regex=True)\n",
    "laptops[\"Memory\"] = laptops[\"Memory\"].str.replace('GB', '')\n",
    "laptops[\"Memory\"] = laptops[\"Memory\"].str.replace('TB', '000')\n",
    "new2 = laptops[\"Memory\"].str.split(\"+\", n = 1, expand = True)\n",
    "laptops[\"first\"]= new2[0]\n",
    "laptops[\"first\"]=laptops[\"first\"].str.strip()\n",
    "laptops[\"second\"]= new2[1]\n",
    "laptops[\"Layer1HDD\"] = laptops[\"first\"].apply(lambda x: 1 if \"HDD\" in x else 0)\n",
    "laptops[\"Layer1SSD\"] = laptops[\"first\"].apply(lambda x: 1 if \"SSD\" in x else 0)\n",
    "laptops[\"Layer1Hybrid\"] = laptops[\"first\"].apply(lambda x: 1 if \"Hybrid\" in x else 0)\n",
    "laptops[\"Layer1Flash_Storage\"] = laptops[\"first\"].apply(lambda x: 1 if \"Flash Storage\" in x else 0)\n",
    "laptops['first'] = laptops['first'].str.replace(r'\\D', '')\n",
    "laptops[\"second\"].fillna(\"0\", inplace = True)\n",
    "laptops[\"Layer2HDD\"] = laptops[\"second\"].apply(lambda x: 1 if \"HDD\" in x else 0)\n",
    "laptops[\"Layer2SSD\"] = laptops[\"second\"].apply(lambda x: 1 if \"SSD\" in x else 0)\n",
    "laptops[\"Layer2Hybrid\"] = laptops[\"second\"].apply(lambda x: 1 if \"Hybrid\" in x else 0)\n",
    "laptops[\"Layer2Flash_Storage\"] = laptops[\"second\"].apply(lambda x: 1 if \"Flash Storage\" in x else 0)\n",
    "laptops['second'] = laptops['second'].str.replace(r'\\D', '')\n",
    "laptops[\"first\"] = laptops[\"first\"].astype(int)\n",
    "laptops[\"second\"] = laptops[\"second\"].astype(int)\n",
    "laptops[\"Total_Memory\"]=(laptops[\"first\"]*(laptops[\"Layer1HDD\"]+laptops[\"Layer1SSD\"]+laptops[\"Layer1Hybrid\"]+laptops[\"Layer1Flash_Storage\"])+laptops[\"second\"]*(laptops[\"Layer2HDD\"]+laptops[\"Layer2SSD\"]+laptops[\"Layer2Hybrid\"]+laptops[\"Layer2Flash_Storage\"]))\n",
    "laptops[\"Memory\"]=laptops[\"Total_Memory\"]\n",
    "laptops[\"HDD\"]=(laptops[\"first\"]*laptops[\"Layer1HDD\"]+laptops[\"second\"]*laptops[\"Layer2HDD\"])\n",
    "laptops[\"SSD\"]=(laptops[\"first\"]*laptops[\"Layer1SSD\"]+laptops[\"second\"]*laptops[\"Layer2SSD\"])\n",
    "laptops[\"Hybrid\"]=(laptops[\"first\"]*laptops[\"Layer1Hybrid\"]+laptops[\"second\"]*laptops[\"Layer2Hybrid\"])\n",
    "laptops[\"Flash_Storage\"]=(laptops[\"first\"]*laptops[\"Layer1Flash_Storage\"]+laptops[\"second\"]*laptops[\"Layer2Flash_Storage\"])\n",
    "new = laptops[\"ScreenResolution\"].str.split(\"x\", n = 1, expand = True)\n",
    "laptops[\"X_res\"]= new[0]\n",
    "laptops[\"Y_res\"]= new[1]\n",
    "laptops[\"Y_res\"]= pd.to_numeric(laptops[\"Y_res\"])\n",
    "laptops[\"Y_res\"]= laptops[\"Y_res\"].astype(float)\n",
    "laptops[\"X_res\"]=(laptops['X_res'].str.replace(',','').str.findall(r'(\\d+\\.?\\d+)').apply(lambda x: pd.Series(x).astype(int)).mean(1))\n",
    "laptops[\"X_res\"]=pd.to_numeric(laptops[\"X_res\"])\n",
    "laptops[\"PPI\"]=(((laptops[\"X_res\"]**2+laptops[\"Y_res\"]**2)**(1/2))/laptops[\"Inches\"]).astype(float)\n",
    "laptops[\"ScreenResolution\"]=(laptops[\"X_res\"]*laptops[\"Y_res\"]).astype(float)\n",
    "laptops[\"Ram\"] = laptops[\"Ram\"].astype(int)\n",
    "laptops[\"Weight\"] = laptops[\"Weight\"].astype(float)\n",
    "laptops=laptops.drop(['first','second','Layer1HDD','Layer1SSD','Layer1Hybrid','Layer1Flash_Storage','Layer2HDD','Layer2SSD','Layer2Hybrid','Layer2Flash_Storage','Total_Memory'],axis=1)"
   ]
  },
  {
   "cell_type": "code",
   "execution_count": 16,
   "metadata": {
    "pycharm": {
     "name": "#%%\n"
    }
   },
   "outputs": [
    {
     "data": {
      "text/html": [
       "<div>\n",
       "<style scoped>\n",
       "    .dataframe tbody tr th:only-of-type {\n",
       "        vertical-align: middle;\n",
       "    }\n",
       "\n",
       "    .dataframe tbody tr th {\n",
       "        vertical-align: top;\n",
       "    }\n",
       "\n",
       "    .dataframe thead th {\n",
       "        text-align: right;\n",
       "    }\n",
       "</style>\n",
       "<table border=\"1\" class=\"dataframe\">\n",
       "  <thead>\n",
       "    <tr style=\"text-align: right;\">\n",
       "      <th></th>\n",
       "      <th>Company</th>\n",
       "      <th>Product</th>\n",
       "      <th>TypeName</th>\n",
       "      <th>Inches</th>\n",
       "      <th>ScreenResolution</th>\n",
       "      <th>Cpu</th>\n",
       "      <th>Ram</th>\n",
       "      <th>Memory</th>\n",
       "      <th>Gpu</th>\n",
       "      <th>OpSys</th>\n",
       "      <th>Weight</th>\n",
       "      <th>Price_euros</th>\n",
       "      <th>HDD</th>\n",
       "      <th>SSD</th>\n",
       "      <th>Hybrid</th>\n",
       "      <th>Flash_Storage</th>\n",
       "      <th>X_res</th>\n",
       "      <th>Y_res</th>\n",
       "      <th>PPI</th>\n",
       "    </tr>\n",
       "    <tr>\n",
       "      <th>laptop_ID</th>\n",
       "      <th></th>\n",
       "      <th></th>\n",
       "      <th></th>\n",
       "      <th></th>\n",
       "      <th></th>\n",
       "      <th></th>\n",
       "      <th></th>\n",
       "      <th></th>\n",
       "      <th></th>\n",
       "      <th></th>\n",
       "      <th></th>\n",
       "      <th></th>\n",
       "      <th></th>\n",
       "      <th></th>\n",
       "      <th></th>\n",
       "      <th></th>\n",
       "      <th></th>\n",
       "      <th></th>\n",
       "      <th></th>\n",
       "    </tr>\n",
       "  </thead>\n",
       "  <tbody>\n",
       "    <tr>\n",
       "      <th>1</th>\n",
       "      <td>Apple</td>\n",
       "      <td>MacBook Pro</td>\n",
       "      <td>Ultrabook</td>\n",
       "      <td>13.3</td>\n",
       "      <td>4096000.0</td>\n",
       "      <td>Intel Core i5 2.3GHz</td>\n",
       "      <td>8</td>\n",
       "      <td>128</td>\n",
       "      <td>Intel Iris Plus Graphics 640</td>\n",
       "      <td>macOS</td>\n",
       "      <td>1.37</td>\n",
       "      <td>1339.69</td>\n",
       "      <td>0</td>\n",
       "      <td>128</td>\n",
       "      <td>0</td>\n",
       "      <td>0</td>\n",
       "      <td>2560.0</td>\n",
       "      <td>1600.0</td>\n",
       "      <td>226.983005</td>\n",
       "    </tr>\n",
       "    <tr>\n",
       "      <th>2</th>\n",
       "      <td>Apple</td>\n",
       "      <td>Macbook Air</td>\n",
       "      <td>Ultrabook</td>\n",
       "      <td>13.3</td>\n",
       "      <td>1296000.0</td>\n",
       "      <td>Intel Core i5 1.8GHz</td>\n",
       "      <td>8</td>\n",
       "      <td>128</td>\n",
       "      <td>Intel HD Graphics 6000</td>\n",
       "      <td>macOS</td>\n",
       "      <td>1.34</td>\n",
       "      <td>898.94</td>\n",
       "      <td>0</td>\n",
       "      <td>0</td>\n",
       "      <td>0</td>\n",
       "      <td>128</td>\n",
       "      <td>1440.0</td>\n",
       "      <td>900.0</td>\n",
       "      <td>127.677940</td>\n",
       "    </tr>\n",
       "    <tr>\n",
       "      <th>3</th>\n",
       "      <td>HP</td>\n",
       "      <td>250 G6</td>\n",
       "      <td>Notebook</td>\n",
       "      <td>15.6</td>\n",
       "      <td>2073600.0</td>\n",
       "      <td>Intel Core i5 7200U 2.5GHz</td>\n",
       "      <td>8</td>\n",
       "      <td>256</td>\n",
       "      <td>Intel HD Graphics 620</td>\n",
       "      <td>No OS</td>\n",
       "      <td>1.86</td>\n",
       "      <td>575.00</td>\n",
       "      <td>0</td>\n",
       "      <td>256</td>\n",
       "      <td>0</td>\n",
       "      <td>0</td>\n",
       "      <td>1920.0</td>\n",
       "      <td>1080.0</td>\n",
       "      <td>141.211998</td>\n",
       "    </tr>\n",
       "    <tr>\n",
       "      <th>4</th>\n",
       "      <td>Apple</td>\n",
       "      <td>MacBook Pro</td>\n",
       "      <td>Ultrabook</td>\n",
       "      <td>15.4</td>\n",
       "      <td>5184000.0</td>\n",
       "      <td>Intel Core i7 2.7GHz</td>\n",
       "      <td>16</td>\n",
       "      <td>512</td>\n",
       "      <td>AMD Radeon Pro 455</td>\n",
       "      <td>macOS</td>\n",
       "      <td>1.83</td>\n",
       "      <td>2537.45</td>\n",
       "      <td>0</td>\n",
       "      <td>512</td>\n",
       "      <td>0</td>\n",
       "      <td>0</td>\n",
       "      <td>2880.0</td>\n",
       "      <td>1800.0</td>\n",
       "      <td>220.534624</td>\n",
       "    </tr>\n",
       "    <tr>\n",
       "      <th>5</th>\n",
       "      <td>Apple</td>\n",
       "      <td>MacBook Pro</td>\n",
       "      <td>Ultrabook</td>\n",
       "      <td>13.3</td>\n",
       "      <td>4096000.0</td>\n",
       "      <td>Intel Core i5 3.1GHz</td>\n",
       "      <td>8</td>\n",
       "      <td>256</td>\n",
       "      <td>Intel Iris Plus Graphics 650</td>\n",
       "      <td>macOS</td>\n",
       "      <td>1.37</td>\n",
       "      <td>1803.60</td>\n",
       "      <td>0</td>\n",
       "      <td>256</td>\n",
       "      <td>0</td>\n",
       "      <td>0</td>\n",
       "      <td>2560.0</td>\n",
       "      <td>1600.0</td>\n",
       "      <td>226.983005</td>\n",
       "    </tr>\n",
       "  </tbody>\n",
       "</table>\n",
       "</div>"
      ],
      "text/plain": [
       "          Company      Product   TypeName  Inches  ScreenResolution  \\\n",
       "laptop_ID                                                             \n",
       "1           Apple  MacBook Pro  Ultrabook    13.3         4096000.0   \n",
       "2           Apple  Macbook Air  Ultrabook    13.3         1296000.0   \n",
       "3              HP       250 G6   Notebook    15.6         2073600.0   \n",
       "4           Apple  MacBook Pro  Ultrabook    15.4         5184000.0   \n",
       "5           Apple  MacBook Pro  Ultrabook    13.3         4096000.0   \n",
       "\n",
       "                                  Cpu  Ram  Memory  \\\n",
       "laptop_ID                                            \n",
       "1                Intel Core i5 2.3GHz    8     128   \n",
       "2                Intel Core i5 1.8GHz    8     128   \n",
       "3          Intel Core i5 7200U 2.5GHz    8     256   \n",
       "4                Intel Core i7 2.7GHz   16     512   \n",
       "5                Intel Core i5 3.1GHz    8     256   \n",
       "\n",
       "                                    Gpu  OpSys  Weight  Price_euros  HDD  SSD  \\\n",
       "laptop_ID                                                                       \n",
       "1          Intel Iris Plus Graphics 640  macOS    1.37      1339.69    0  128   \n",
       "2                Intel HD Graphics 6000  macOS    1.34       898.94    0    0   \n",
       "3                 Intel HD Graphics 620  No OS    1.86       575.00    0  256   \n",
       "4                    AMD Radeon Pro 455  macOS    1.83      2537.45    0  512   \n",
       "5          Intel Iris Plus Graphics 650  macOS    1.37      1803.60    0  256   \n",
       "\n",
       "           Hybrid  Flash_Storage   X_res   Y_res         PPI  \n",
       "laptop_ID                                                     \n",
       "1               0              0  2560.0  1600.0  226.983005  \n",
       "2               0            128  1440.0   900.0  127.677940  \n",
       "3               0              0  1920.0  1080.0  141.211998  \n",
       "4               0              0  2880.0  1800.0  220.534624  \n",
       "5               0              0  2560.0  1600.0  226.983005  "
      ]
     },
     "execution_count": 16,
     "metadata": {},
     "output_type": "execute_result"
    }
   ],
   "source": [
    "laptops.head(5)"
   ]
  },
  {
   "cell_type": "code",
   "execution_count": 18,
   "metadata": {
    "pycharm": {
     "name": "#%%\n"
    }
   },
   "outputs": [
    {
     "data": {
      "image/png": "[encoded data removed]",
      "text/plain": [
       "<Figure size 1152x1152 with 2 Axes>"
      ]
     },
     "metadata": {
      "needs_background": "light"
     },
     "output_type": "display_data"
    }
   ],
   "source": [
    "#Коррелляционный анализ\n",
    "def correlation_heatmap(train):\n",
    "    correlations = train.corr()\n",
    "\n",
    "    fig, ax = plt.subplots(figsize=(16,16))\n",
    "    sns.heatmap(correlations, vmax=1.0, center=0, fmt='.2f', square=True, linewidths=.5, annot=True, cbar_kws={\"shrink\":.70})\n",
    "    plt.show()\n",
    "correlation_heatmap(laptops)"
   ]
  },
  {
   "cell_type": "code",
   "execution_count": 52,
   "metadata": {
    "pycharm": {
     "name": "#%%\n"
    }
   },
   "outputs": [
    {
     "name": "stdout",
     "output_type": "stream",
     "text": [
      "Признаки, имеющие максимальную по модулю корреляцию с ценой ноутбука\n"
     ]
    },
    {
     "data": {
      "text/plain": [
       "Ram                 0.743007\n",
       "SSD                 0.670799\n",
       "X_res               0.556529\n",
       "Y_res               0.552809\n",
       "ScreenResolution    0.515486\n",
       "PPI                 0.473487\n",
       "Name: Price_euros, dtype: float64"
      ]
     },
     "execution_count": 52,
     "metadata": {},
     "output_type": "execute_result"
    }
   ],
   "source": [
    "print('Признаки, имеющие максимальную по модулю корреляцию с ценой ноутбука')\n",
    "best_params = laptops.corr()['Price_euros'].map(abs).sort_values(ascending=False)[1:]\n",
    "best_params = best_params[best_params.values > 0.35]\n",
    "best_params"
   ]
  },
  {
   "cell_type": "code",
   "execution_count": 53,
   "metadata": {
    "pycharm": {
     "name": "#%%\n"
    }
   },
   "outputs": [
    {
     "data": {
      "image/png": "[encoded data removed]",
      "text/plain": [
       "<Figure size 1008x432 with 2 Axes>"
      ]
     },
     "metadata": {
      "needs_background": "light"
     },
     "output_type": "display_data"
    }
   ],
   "source": [
    "plt.figure(figsize=(14, 6))\n",
    "sns.heatmap(laptops[best_params.index].corr(), vmin=-1, vmax=1, cmap='coolwarm', annot=True)\n",
    "plt.show()"
   ]
  },
  {
   "cell_type": "code",
   "execution_count": 54,
   "metadata": {
    "pycharm": {
     "name": "#%%\n"
    }
   },
   "outputs": [
    {
     "data": {
      "image/png": "[encoded data removed]",
      "text/plain": [
       "<Figure size 432x216 with 2 Axes>"
      ]
     },
     "metadata": {
      "needs_background": "light"
     },
     "output_type": "display_data"
    }
   ],
   "source": [
    "plt.figure(figsize=(6, 3))\n",
    "sns.heatmap(pd.DataFrame(laptops[np.append(best_params.index.values, 'Price_euros')].corr()['Price_euros'].sort_values(ascending=False)[1:]), vmin=-1, vmax=1, cmap='coolwarm', annot=True)\n",
    "plt.show()"
   ]
  },
  {
   "cell_type": "code",
   "execution_count": 55,
   "metadata": {
    "pycharm": {
     "name": "#%%\n"
    }
   },
   "outputs": [],
   "source": [
    "#Разделение выборки на обучающую и тестовую\n",
    "y = laptops['Price_euros']\n",
    "X = laptops[best_params.index]\n",
    "x_train, x_test, y_train, y_test = train_test_split(X, y, test_size=0.3, random_state=3)\n"
   ]
  },
  {
   "cell_type": "code",
   "execution_count": 56,
   "metadata": {
    "pycharm": {
     "name": "#%%\n"
    }
   },
   "outputs": [],
   "source": [
    "# Линейная регрессия\n",
    "def print_metrics(y_test, y_pred):\n",
    "    print(f\"R^2: {r2_score(y_test, y_pred)}\")\n",
    "    print(f\"MSE: {mean_squared_error(y_test, y_pred)}\")\n",
    "    print(f\"MAE: {mean_absolute_error(y_test, y_pred)}\")"
   ]
  },
  {
   "cell_type": "code",
   "execution_count": 57,
   "metadata": {
    "pycharm": {
     "name": "#%%\n"
    }
   },
   "outputs": [
    {
     "name": "stdout",
     "output_type": "stream",
     "text": [
      "R^2: 0.6379618338689471\n",
      "MSE: 173054.05014963986\n",
      "MAE: 310.74275166816795\n"
     ]
    }
   ],
   "source": [
    "linear_model = LinearRegression()\n",
    "linear_model.fit(x_train, y_train)\n",
    "y_pred_linear = linear_model.predict(x_test)\n",
    "print_metrics(y_test, y_pred_linear)"
   ]
  },
  {
   "cell_type": "code",
   "execution_count": 58,
   "metadata": {
    "pycharm": {
     "name": "#%%\n"
    }
   },
   "outputs": [
    {
     "name": "stdout",
     "output_type": "stream",
     "text": [
      "R^2: 0.5805735881665712\n",
      "MSE: 200485.6009607326\n",
      "MAE: 321.6871983456285\n"
     ]
    }
   ],
   "source": [
    "# Полиномиальная регрессия\n",
    "poly_model = PolynomialFeatures(degree=3)\n",
    "x_train_poly = poly_model.fit_transform(x_train)\n",
    "x_test_poly = poly_model.fit_transform(x_test)\n",
    "linear_model = LinearRegression()\n",
    "linear_model.fit(x_train_poly, y_train)\n",
    "y_pred_poly = linear_model.predict(x_test_poly)\n",
    "print_metrics(y_test, y_pred_poly)"
   ]
  },
  {
   "cell_type": "code",
   "execution_count": 59,
   "metadata": {
    "pycharm": {
     "name": "#%%\n"
    }
   },
   "outputs": [
    {
     "data": {
      "text/html": [
       "<div>\n",
       "<style scoped>\n",
       "    .dataframe tbody tr th:only-of-type {\n",
       "        vertical-align: middle;\n",
       "    }\n",
       "\n",
       "    .dataframe tbody tr th {\n",
       "        vertical-align: top;\n",
       "    }\n",
       "\n",
       "    .dataframe thead th {\n",
       "        text-align: right;\n",
       "    }\n",
       "</style>\n",
       "<table border=\"1\" class=\"dataframe\">\n",
       "  <thead>\n",
       "    <tr style=\"text-align: right;\">\n",
       "      <th></th>\n",
       "      <th>Ram</th>\n",
       "      <th>SSD</th>\n",
       "      <th>X_res</th>\n",
       "      <th>Y_res</th>\n",
       "      <th>ScreenResolution</th>\n",
       "      <th>PPI</th>\n",
       "    </tr>\n",
       "  </thead>\n",
       "  <tbody>\n",
       "    <tr>\n",
       "      <th>count</th>\n",
       "      <td>9.120000e+02</td>\n",
       "      <td>9.120000e+02</td>\n",
       "      <td>9.120000e+02</td>\n",
       "      <td>9.120000e+02</td>\n",
       "      <td>9.120000e+02</td>\n",
       "      <td>9.120000e+02</td>\n",
       "    </tr>\n",
       "    <tr>\n",
       "      <th>mean</th>\n",
       "      <td>-6.232831e-17</td>\n",
       "      <td>-3.505967e-17</td>\n",
       "      <td>-2.337312e-17</td>\n",
       "      <td>3.544923e-16</td>\n",
       "      <td>1.636118e-16</td>\n",
       "      <td>-4.869399e-16</td>\n",
       "    </tr>\n",
       "    <tr>\n",
       "      <th>std</th>\n",
       "      <td>1.000549e+00</td>\n",
       "      <td>1.000549e+00</td>\n",
       "      <td>1.000549e+00</td>\n",
       "      <td>1.000549e+00</td>\n",
       "      <td>1.000549e+00</td>\n",
       "      <td>1.000549e+00</td>\n",
       "    </tr>\n",
       "    <tr>\n",
       "      <th>min</th>\n",
       "      <td>-1.225851e+00</td>\n",
       "      <td>-9.940405e-01</td>\n",
       "      <td>-1.098077e+00</td>\n",
       "      <td>-1.093414e+00</td>\n",
       "      <td>-8.232087e-01</td>\n",
       "      <td>-1.360108e+00</td>\n",
       "    </tr>\n",
       "    <tr>\n",
       "      <th>25%</th>\n",
       "      <td>-8.379344e-01</td>\n",
       "      <td>-9.940405e-01</td>\n",
       "      <td>6.651269e-02</td>\n",
       "      <td>4.906480e-02</td>\n",
       "      <td>-5.244409e-02</td>\n",
       "      <td>-4.562425e-01</td>\n",
       "    </tr>\n",
       "    <tr>\n",
       "      <th>50%</th>\n",
       "      <td>-6.210072e-02</td>\n",
       "      <td>-1.306453e-01</td>\n",
       "      <td>6.651269e-02</td>\n",
       "      <td>4.906480e-02</td>\n",
       "      <td>-5.244409e-02</td>\n",
       "      <td>-1.149758e-01</td>\n",
       "    </tr>\n",
       "    <tr>\n",
       "      <th>75%</th>\n",
       "      <td>-6.210072e-02</td>\n",
       "      <td>4.412138e-01</td>\n",
       "      <td>6.651269e-02</td>\n",
       "      <td>4.906480e-02</td>\n",
       "      <td>-5.244409e-02</td>\n",
       "      <td>2.819260e-01</td>\n",
       "    </tr>\n",
       "    <tr>\n",
       "      <th>max</th>\n",
       "      <td>1.079957e+01</td>\n",
       "      <td>4.612422e+00</td>\n",
       "      <td>4.102636e+00</td>\n",
       "      <td>4.003800e+00</td>\n",
       "      <td>4.627611e+00</td>\n",
       "      <td>5.080469e+00</td>\n",
       "    </tr>\n",
       "  </tbody>\n",
       "</table>\n",
       "</div>"
      ],
      "text/plain": [
       "                Ram           SSD         X_res         Y_res  \\\n",
       "count  9.120000e+02  9.120000e+02  9.120000e+02  9.120000e+02   \n",
       "mean  -6.232831e-17 -3.505967e-17 -2.337312e-17  3.544923e-16   \n",
       "std    1.000549e+00  1.000549e+00  1.000549e+00  1.000549e+00   \n",
       "min   -1.225851e+00 -9.940405e-01 -1.098077e+00 -1.093414e+00   \n",
       "25%   -8.379344e-01 -9.940405e-01  6.651269e-02  4.906480e-02   \n",
       "50%   -6.210072e-02 -1.306453e-01  6.651269e-02  4.906480e-02   \n",
       "75%   -6.210072e-02  4.412138e-01  6.651269e-02  4.906480e-02   \n",
       "max    1.079957e+01  4.612422e+00  4.102636e+00  4.003800e+00   \n",
       "\n",
       "       ScreenResolution           PPI  \n",
       "count      9.120000e+02  9.120000e+02  \n",
       "mean       1.636118e-16 -4.869399e-16  \n",
       "std        1.000549e+00  1.000549e+00  \n",
       "min       -8.232087e-01 -1.360108e+00  \n",
       "25%       -5.244409e-02 -4.562425e-01  \n",
       "50%       -5.244409e-02 -1.149758e-01  \n",
       "75%       -5.244409e-02  2.819260e-01  \n",
       "max        4.627611e+00  5.080469e+00  "
      ]
     },
     "execution_count": 59,
     "metadata": {},
     "output_type": "execute_result"
    }
   ],
   "source": [
    "# SVM\n",
    "scaler = StandardScaler().fit(x_train)\n",
    "x_train_scaled = pd.DataFrame(scaler.transform(x_train), columns=x_train.columns)\n",
    "x_test_scaled = pd.DataFrame(scaler.transform(x_test), columns=x_train.columns)\n",
    "x_train_scaled.describe()"
   ]
  },
  {
   "cell_type": "code",
   "execution_count": 60,
   "metadata": {
    "pycharm": {
     "name": "#%%\n"
    }
   },
   "outputs": [
    {
     "name": "stdout",
     "output_type": "stream",
     "text": [
      "{'C': 14.0}\n"
     ]
    }
   ],
   "source": [
    "# Дерево решений\n",
    "params = {'C': np.concatenate([np.arange(0.1, 2, 0.1), np.arange(2, 15, 1)])}\n",
    "svm_model = SVR(kernel='linear')\n",
    "grid_cv = GridSearchCV(estimator=svm_model, param_grid=params, cv=10, n_jobs=-1, scoring='r2')\n",
    "grid_cv.fit(x_train_scaled, y_train)\n",
    "print(grid_cv.best_params_)"
   ]
  },
  {
   "cell_type": "code",
   "execution_count": 61,
   "metadata": {
    "pycharm": {
     "name": "#%%\n"
    }
   },
   "outputs": [
    {
     "name": "stdout",
     "output_type": "stream",
     "text": [
      "R^2: 0.6238423995737965\n",
      "MSE: 179803.13220557166\n",
      "MAE: 307.8229552113887\n"
     ]
    }
   ],
   "source": [
    "best_svm_model = grid_cv.best_estimator_\n",
    "best_svm_model = SVR(kernel='linear', C=11)\n",
    "best_svm_model.fit(x_train_scaled, y_train)\n",
    "y_pred_svm = best_svm_model.predict(x_test_scaled)\n",
    "print_metrics(y_test, y_pred_svm)"
   ]
  },
  {
   "cell_type": "code",
   "execution_count": 62,
   "metadata": {
    "pycharm": {
     "name": "#%%\n"
    }
   },
   "outputs": [
    {
     "name": "stdout",
     "output_type": "stream",
     "text": [
      "{'min_samples_leaf': 4}\n"
     ]
    }
   ],
   "source": [
    "params = {'min_samples_leaf': range(3, 30)}\n",
    "tree = DecisionTreeRegressor(random_state=3)\n",
    "grid_cv = GridSearchCV(estimator=tree, cv=5, param_grid=params, n_jobs=-1, scoring='neg_mean_absolute_error')\n",
    "grid_cv.fit(x_train, y_train)\n",
    "print(grid_cv.best_params_)"
   ]
  },
  {
   "cell_type": "code",
   "execution_count": 63,
   "metadata": {
    "pycharm": {
     "name": "#%%\n"
    }
   },
   "outputs": [
    {
     "name": "stdout",
     "output_type": "stream",
     "text": [
      "R^2: 0.6789652616590819\n",
      "MSE: 153454.4335541549\n",
      "MAE: 284.90609115308723\n"
     ]
    }
   ],
   "source": [
    "best_tree = grid_cv.best_estimator_\n",
    "best_tree.fit(x_train, y_train)\n",
    "y_pred_tree = best_tree.predict(x_test)\n",
    "print_metrics(y_test, y_pred_tree)"
   ]
  },
  {
   "cell_type": "code",
   "execution_count": 64,
   "metadata": {
    "pycharm": {
     "name": "#%%\n"
    }
   },
   "outputs": [
    {
     "name": "stdout",
     "output_type": "stream",
     "text": [
      "Важность признаков в дереве решений\n",
      "\n",
      "Ram: 0.784\n",
      "PPI: 0.098\n",
      "SSD: 0.087\n",
      "ScreenResolution: 0.022\n",
      "X_res: 0.009\n",
      "Y_res: 0.0\n"
     ]
    }
   ],
   "source": [
    "importances = pd.DataFrame(data=zip(x_train.columns, best_tree.feature_importances_), columns=['Признак', 'Важность'])\n",
    "print('Важность признаков в дереве решений\\n')\n",
    "for row in importances.sort_values(by='Важность', ascending=False).values:\n",
    "    print(f'{row[0]}: {round(row[1], 3)}')"
   ]
  },
  {
   "cell_type": "code",
   "execution_count": 65,
   "metadata": {
    "pycharm": {
     "name": "#%%\n"
    }
   },
   "outputs": [
    {
     "data": {
      "image/png": "[encoded data removed]",
      "text/plain": [
       "<Figure size 864x288 with 1 Axes>"
      ]
     },
     "metadata": {
      "needs_background": "light"
     },
     "output_type": "display_data"
    }
   ],
   "source": [
    "plt.figure(figsize=(12, 4))\n",
    "sns.barplot(data=importances.sort_values(by='Важность', ascending=False), y='Признак', x='Важность', orient='h', )\n",
    "plt.title('Важность признаков в дереве решений')\n",
    "plt.show()"
   ]
  },
  {
   "cell_type": "code",
   "execution_count": 71,
   "metadata": {
    "pycharm": {
     "name": "#%%\n"
    }
   },
   "outputs": [
    {
     "name": "stdout",
     "output_type": "stream",
     "text": [
      "Линейная регрессия\n",
      "R^2: 0.6379618338689471\n",
      "MSE: 173054.05014963986\n",
      "MAE: 310.74275166816795\n",
      "\n",
      "Полиномиальная регрессия\n",
      "R^2: 0.5805735881665712\n",
      "MSE: 200485.6009607326\n",
      "MAE: 321.6871983456285\n",
      "\n",
      "Метод опорных векторов\n",
      "R^2: 0.6238423995737965\n",
      "MSE: 179803.13220557166\n",
      "MAE: 307.8229552113887\n",
      "\n",
      "Дерево решений\n",
      "R^2: 0.6789652616590819\n",
      "MSE: 153454.4335541549\n",
      "MAE: 284.90609115308723\n"
     ]
    }
   ],
   "source": [
    "#Сравнение моделей\n",
    "print('Линейная регрессия')\n",
    "print_metrics(y_test, y_pred_linear)\n",
    "\n",
    "print('\\nПолиномиальная регрессия')\n",
    "print_metrics(y_test, y_pred_poly)\n",
    "\n",
    "print('\\nМетод опорных векторов')\n",
    "print_metrics(y_test, y_pred_svm)\n",
    "\n",
    "print('\\nДерево решений')\n",
    "print_metrics(y_test, y_pred_tree)"
   ]
  },
  {
   "cell_type": "code",
   "execution_count": null,
   "metadata": {
    "pycharm": {
     "name": "#%%\n"
    }
   },
   "outputs": [],
   "source": []
  }
 ],
 "metadata": {
  "kernelspec": {
   "display_name": "Python 3 (ipykernel)",
   "language": "python",
   "name": "python3"
  },
  "language_info": {
   "codemirror_mode": {
    "name": "ipython",
    "version": 3
   },
   "file_extension": ".py",
   "mimetype": "text/x-python",
   "name": "python",
   "nbconvert_exporter": "python",
   "pygments_lexer": "ipython3",
   "version": "3.9.7"
  }
 },
 "nbformat": 4,
 "nbformat_minor": 1
}
